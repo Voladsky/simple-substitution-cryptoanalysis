{
 "cells": [
  {
   "cell_type": "markdown",
   "metadata": {},
   "source": [
    "# Индивидуальная работа по криптоанализу"
   ]
  },
  {
   "cell_type": "markdown",
   "metadata": {},
   "source": [
    "## Подгрузка модулей"
   ]
  },
  {
   "cell_type": "code",
   "execution_count": 185,
   "metadata": {},
   "outputs": [
    {
     "name": "stdout",
     "output_type": "stream",
     "text": [
      "Requirement already satisfied: beautifulsoup4 in d:\\мехмат\\осенний семестр 2024\\теоркод\\криптоанализ\\.venv\\lib\\site-packages (4.12.3)\n",
      "Requirement already satisfied: requests in d:\\мехмат\\осенний семестр 2024\\теоркод\\криптоанализ\\.venv\\lib\\site-packages (2.32.3)\n",
      "Requirement already satisfied: pandas in d:\\мехмат\\осенний семестр 2024\\теоркод\\криптоанализ\\.venv\\lib\\site-packages (2.2.3)\n",
      "Requirement already satisfied: seaborn in d:\\мехмат\\осенний семестр 2024\\теоркод\\криптоанализ\\.venv\\lib\\site-packages (0.13.2)\n",
      "Requirement already satisfied: matplotlib in d:\\мехмат\\осенний семестр 2024\\теоркод\\криптоанализ\\.venv\\lib\\site-packages (3.10.0)\n",
      "Requirement already satisfied: soupsieve>1.2 in d:\\мехмат\\осенний семестр 2024\\теоркод\\криптоанализ\\.venv\\lib\\site-packages (from beautifulsoup4) (2.6)\n",
      "Requirement already satisfied: charset-normalizer<4,>=2 in d:\\мехмат\\осенний семестр 2024\\теоркод\\криптоанализ\\.venv\\lib\\site-packages (from requests) (3.4.1)\n",
      "Requirement already satisfied: idna<4,>=2.5 in d:\\мехмат\\осенний семестр 2024\\теоркод\\криптоанализ\\.venv\\lib\\site-packages (from requests) (3.10)\n",
      "Requirement already satisfied: urllib3<3,>=1.21.1 in d:\\мехмат\\осенний семестр 2024\\теоркод\\криптоанализ\\.venv\\lib\\site-packages (from requests) (2.3.0)\n",
      "Requirement already satisfied: certifi>=2017.4.17 in d:\\мехмат\\осенний семестр 2024\\теоркод\\криптоанализ\\.venv\\lib\\site-packages (from requests) (2024.12.14)\n",
      "Requirement already satisfied: numpy>=1.26.0 in d:\\мехмат\\осенний семестр 2024\\теоркод\\криптоанализ\\.venv\\lib\\site-packages (from pandas) (2.2.1)\n",
      "Requirement already satisfied: python-dateutil>=2.8.2 in d:\\мехмат\\осенний семестр 2024\\теоркод\\криптоанализ\\.venv\\lib\\site-packages (from pandas) (2.9.0.post0)\n",
      "Requirement already satisfied: pytz>=2020.1 in d:\\мехмат\\осенний семестр 2024\\теоркод\\криптоанализ\\.venv\\lib\\site-packages (from pandas) (2024.2)\n",
      "Requirement already satisfied: tzdata>=2022.7 in d:\\мехмат\\осенний семестр 2024\\теоркод\\криптоанализ\\.venv\\lib\\site-packages (from pandas) (2024.2)\n",
      "Requirement already satisfied: contourpy>=1.0.1 in d:\\мехмат\\осенний семестр 2024\\теоркод\\криптоанализ\\.venv\\lib\\site-packages (from matplotlib) (1.3.1)\n",
      "Requirement already satisfied: cycler>=0.10 in d:\\мехмат\\осенний семестр 2024\\теоркод\\криптоанализ\\.venv\\lib\\site-packages (from matplotlib) (0.12.1)\n",
      "Requirement already satisfied: fonttools>=4.22.0 in d:\\мехмат\\осенний семестр 2024\\теоркод\\криптоанализ\\.venv\\lib\\site-packages (from matplotlib) (4.55.3)\n",
      "Requirement already satisfied: kiwisolver>=1.3.1 in d:\\мехмат\\осенний семестр 2024\\теоркод\\криптоанализ\\.venv\\lib\\site-packages (from matplotlib) (1.4.8)\n",
      "Requirement already satisfied: packaging>=20.0 in d:\\мехмат\\осенний семестр 2024\\теоркод\\криптоанализ\\.venv\\lib\\site-packages (from matplotlib) (24.2)\n",
      "Requirement already satisfied: pillow>=8 in d:\\мехмат\\осенний семестр 2024\\теоркод\\криптоанализ\\.venv\\lib\\site-packages (from matplotlib) (11.0.0)\n",
      "Requirement already satisfied: pyparsing>=2.3.1 in d:\\мехмат\\осенний семестр 2024\\теоркод\\криптоанализ\\.venv\\lib\\site-packages (from matplotlib) (3.2.0)\n",
      "Requirement already satisfied: six>=1.5 in d:\\мехмат\\осенний семестр 2024\\теоркод\\криптоанализ\\.venv\\lib\\site-packages (from python-dateutil>=2.8.2->pandas) (1.17.0)\n"
     ]
    }
   ],
   "source": [
    "! pip install beautifulsoup4 requests pandas seaborn matplotlib"
   ]
  },
  {
   "cell_type": "markdown",
   "metadata": {},
   "source": [
    "## Загрузка частотных словарей"
   ]
  },
  {
   "cell_type": "markdown",
   "metadata": {},
   "source": [
    "Задание алфавит как константы (пригодится на будущее для визуализации)"
   ]
  },
  {
   "cell_type": "code",
   "execution_count": 186,
   "metadata": {},
   "outputs": [],
   "source": [
    "ALPHABET = \"абвгдеёжзийклмнопрстуфхцчшщъыьэюя\""
   ]
  },
  {
   "cell_type": "markdown",
   "metadata": {},
   "source": [
    "### Чтение частного словаря русского языка "
   ]
  },
  {
   "cell_type": "markdown",
   "metadata": {},
   "source": [
    "Словарь считывается с [сайта НКРЯ](http://dict.ruslang.ru/freq.php?act=show&dic=freq_letters).\n",
    "Для парсинга html используется модуль BeautifulSoup"
   ]
  },
  {
   "cell_type": "code",
   "execution_count": 187,
   "metadata": {},
   "outputs": [],
   "source": [
    "from bs4 import BeautifulSoup\n",
    "import requests\n",
    "import pandas as pd\n",
    "import numpy as np\n",
    "import matplotlib.pyplot as plt\n",
    "\n",
    "# Прочитать GET-запросом и вытянуть табличку\n",
    "response = requests.get(\"http://dict.ruslang.ru/freq.php?act=show&dic=freq_letters&title=%D7%E0%F1%F2%EE%F2%ED%EE%F1%F2%FC%20%E1%F3%EA%E2%20%F0%F3%F1%F1%EA%EE%E3%EE%20%E0%EB%F4%E0%E2%E8%F2%E0\")\n",
    "soup = BeautifulSoup(response.text, \"html.parser\").find_all(\"table\")[1]\n",
    "rows = soup.find_all('tr')\n",
    "list_rows = []\n",
    "\n",
    "# Пробег по табличке и преобразование каждой строки в список\n",
    "for row in rows:\n",
    "    row_td = row.find_all('td')[1:]\n",
    "    str_cells = list(map(str, row_td))\n",
    "    clean_text = list(map(lambda x: BeautifulSoup(x,\"html.parser\").get_text().strip(), str_cells))\n",
    "    list_rows.append(clean_text)\n",
    "\n",
    "# Фронтендер сайтя НКРЯ сделал между заголовком и текстом пустую строку >:(\n",
    "# Вырезаем её\n",
    "list_rows = list_rows[0:1] + list_rows[2:]\n",
    "\n",
    "# Перегонка в пандас датафрейм (можно было обойтись без этого, но вытянуть столбец из датафрейма проще)\n",
    "df = pd.DataFrame(list_rows)\n",
    "headers = df.iloc[0]\n",
    "new_df  = pd.DataFrame(df.values[1:], columns=headers).drop(columns=[None, 'Ранг'])\n",
    "\n",
    "# Пересчёт относительной частоты из абсолютной\n",
    "valid_freq = np.array(list(map(int, list(new_df['Абс. частота']))), dtype=\"float64\")\n",
    "valid_freq /= np.sum(valid_freq)"
   ]
  },
  {
   "cell_type": "markdown",
   "metadata": {},
   "source": [
    "### Создание частотного словаря для входного текста"
   ]
  },
  {
   "cell_type": "code",
   "execution_count": 188,
   "metadata": {},
   "outputs": [
    {
     "name": "stdout",
     "output_type": "stream",
     "text": [
      "\n",
      "\n",
      "\n",
      "\n",
      "\n",
      "\n"
     ]
    }
   ],
   "source": [
    "input_str = '''звамйзгзажжся сдрцря йзбизжрдс ёжа кзёзт г оадафзжу жргоз жа йзкхзкрд жз эоз аща жр з чаё жа нзизлрдз я ёзндс гукс унзкжз иытор с кзёлсвзожрцы жа выдз кзёс йзэозёу сдрцря йзбизжрдс аща лсб йзбкжз иачалзё р убжсдс зо кзёлсвзожрцы чоз ёажя жао кзёлсвзожрцс жа иркадс ёажя м измгламажья и ёзат гзёжсоа жзлёсдьжыт вамйзлякзг\n",
    "жс мдакующрт кажь уеа жа жс шуогу звамйзгзажжся сдрцря м уолс ирмадс жс оадафзжа ёажя жрнка жа выдз кзёзт жс жзчь я жа избилсщсдсмь жргоз жрчанз жа бжсд звз ёжа лсммйлзмы сдрцрр зчажь имолаизердр сжроу м гзозлзт я кзнзизлрдсмь имолаороьмя из иозлжрг жз жа йлршдс р жа йзксисдс жргсгрх иамоат с иакь сжрос йалаизкрдс ёзю гжрегу и чаё я выдс бсржоаламзисжс гукс вздьша аа иамь иачал зжс выдс иыжуекажс йалаизкроь зкжс бдрдсмь жсбисжрисдс ёжа с ёажя има жа выдз р жа выдз\n",
    "има эоз бсмосирдз сдрцрю бскуёсоьмя йзкуёси зжс иачалзё и чаоиалн йзмда лсвзоы йлршдс гз ёжа кзёзт йзнзизлри м кзёлсвзожрцат зжс змёзоладс гислорлу йлзиалрдс жсдрчра ёзрх иащат йлзчдс изйлагр мизрё йлржцрйсё бсйлсидажжза и йршущую ёсшржгу ёза йрмьёз г ёрхсду хзоя эоз ат жрчанз жа ксдз рвз йрмьёз мзмозядз и змжзижзё рб лсммуекажрт жс оаёу гсгзиы шсжмы фдзлажм жс йзваку и зчалакжых мгсчгсх йзозё жсйрдсмь гзфа йзмркадс бс моздзё р жрчанз жа лашрдс гсгзажрвукь дювзижза йлргдючажра жа йзхзеа жс ёажя уе мгзлаа ёзежз йлакйздзероь чоз ёжа зчалакжзт лсб чозоз иоаёяшрдзмь и нздзиу р я лашрдс жаёакдажжз ахсоь и йздьшу йлрчаё ахсоь и чаё выдс  всб иащат ваб кажан ваб кзгуёажози гзозлыа даесдр и мозда р млакр гзозлых жа хисосдз оздьгз йсмйзлос сдрцря звбизжрдс има вздьжрцы бизжрдс и йздрцрю р йзеслжую гзёсжку жргоз звз ёжа жрчанз жа бжсд я гсг мгизбь баёдю йлзисдрдсмь\n",
    "'''\n",
    "\n",
    "# Удаление пробелов из строчки\n",
    "input_str_processed = input_str.replace(' ', '')\n",
    "\n",
    "# Пробежка по строке, подсчёт абсолютной частоты (индекс в этом массиве соответствует букве по порядку от а до я)\n",
    "\n",
    "freq = [0] * len(ALPHABET)\n",
    "for j in input_str_processed:\n",
    "  if ALPHABET.find(j) == -1:\n",
    "    print(j)\n",
    "  freq[ALPHABET.find(j)] += 1\n",
    "\n",
    "# Пересчёт относительной частоты\n",
    "freq = np.array(freq, dtype=\"float64\")\n",
    "freq /= np.sum(freq)"
   ]
  },
  {
   "cell_type": "markdown",
   "metadata": {},
   "source": [
    "### Визуализация"
   ]
  },
  {
   "cell_type": "code",
   "execution_count": 189,
   "metadata": {},
   "outputs": [
    {
     "data": {
      "image/png": "[encoded data removed]",
      "text/plain": [
       "<Figure size 1200x800 with 2 Axes>"
      ]
     },
     "metadata": {},
     "output_type": "display_data"
    }
   ],
   "source": [
    "plt.figure(figsize=(12, 8))\n",
    "\n",
    "plt.subplot(2, 1, 1)\n",
    "plt.bar(list(ALPHABET), valid_freq, color='blue')\n",
    "plt.title('Частоты русского языка')\n",
    "plt.xlabel('Буква')\n",
    "plt.ylabel('Частота')\n",
    "plt.ylim(0, 0.2)\n",
    "\n",
    "plt.subplot(2, 1, 2)\n",
    "plt.bar(list(ALPHABET), freq, color='green')\n",
    "plt.title('Частоты входной строки')\n",
    "plt.xlabel('Буква')\n",
    "plt.ylabel('Частота')\n",
    "plt.ylim(0, 0.2)\n",
    "\n",
    "plt.tight_layout()\n",
    "plt.show()"
   ]
  },
  {
   "cell_type": "markdown",
   "metadata": {},
   "source": [
    "## Процесс расшифровки"
   ]
  },
  {
   "cell_type": "markdown",
   "metadata": {},
   "source": [
    "### Последовательность действий"
   ]
  },
  {
   "cell_type": "markdown",
   "metadata": {},
   "source": [
    "Если неформально описывать, то выглядел процесс примерно так:\n",
    "\n",
    "1. Добавил замену;\n",
    "2. Поискал слова, напоминающие что-то осмысленное;\n",
    "3. \"Подогнал\" замены для них;\n",
    "4. Повторил, пока текст не расшифровался. \n",
    "\n",
    "В первых двух шагах я ещё ориентировался на изначальный, входной, зашифрованный текст. Потом уже смотрел сразу на\n",
    "промежуточную расшифровку, поэтому в словах *могут возникать повторы* (где-то одна и та же буква появилась в результате замены,\n",
    "а где-то буква уже была в изначальном слове). Яркий пример — шаг #7 ниже."
   ]
  },
  {
   "cell_type": "markdown",
   "metadata": {},
   "source": [
    "### Последовательность замен"
   ]
  },
  {
   "cell_type": "markdown",
   "metadata": {},
   "source": [
    "Здесь конкретные строки и слова, которые я находил и \"подгонял\":\n",
    "\n",
    "1. Сначала я увидел слова \"аща\" и \"аа\". По частоте \"а\", скорее всего, является какой-то гласной. Подходит только \"е\";\n",
    "2. Я нашёл последовательность \"аща жр з чаё жа\" и посмотрел на первое слово в тексте - \"звамйзгзажжся\". \"жж\" повторено\n",
    "дважды в конце, а в последовательности есть \"жа\", которое заменилось на \"же\". Кажется, \"ж\" можно попробовать заменить\n",
    "на \"н\". По частоте сходится. Тогда фраза \"аща жр з чаё жа\" может подуматься как \"еще ни о чем не\";\n",
    "3. Потом в \"расшифровке\" я нашёл \"ниченз\". \"ничего\", очевидно;\n",
    "4. \"го мне\" -> \"ко мне\";\n",
    "5. \"йимьмо\" -> \"письмо\";\n",
    "6. \"пишущую мсшинку\" -> \"пишущую машинку\";\n",
    "7. \"сосооядо\" -> \"состояло\";\n",
    "8. \"иосклесенья\" -> \"воскресенья\";\n",
    "9. \"моет комнате\" -> \"моей комнате\";\n",
    "10. \"равоты\" -> \"работы\";\n",
    "11. \"побвонила мне комой\" -> \"позвонила мне домой\";\n",
    "12. \"уее\" -> \"уже\"."
   ]
  },
  {
   "cell_type": "markdown",
   "metadata": {},
   "source": [
    "Ниже приведён код, которым я пользовался для того, чтобы сразу смотреть результаты расшифровки. Тождественные замены здесь исключены за ненадобностью:"
   ]
  },
  {
   "cell_type": "code",
   "execution_count": 190,
   "metadata": {},
   "outputs": [],
   "source": [
    "replacement_dict = {\n",
    "    # Шаг 1\n",
    "    'а': 'е',\n",
    "    # Шаг 2\n",
    "    'ж': 'н',\n",
    "    'р': 'и',\n",
    "    'ё': 'м',\n",
    "    # Шаг 3\n",
    "    'н': 'г',\n",
    "    'з': 'о',\n",
    "    # Шаг 4\n",
    "    'г': 'к',\n",
    "    # Шаг 5\n",
    "    'м': 'с',\n",
    "    'й': 'п',\n",
    "    # Шаг 6\n",
    "    'с': 'а',\n",
    "    # Шаг 7\n",
    "    'о': 'т',\n",
    "    'д': 'л',\n",
    "    # Шаг 8\n",
    "    'и': 'в',\n",
    "    'л': 'р',\n",
    "    # Шаг 9\n",
    "    'т': 'й',\n",
    "    # Шаг 10\n",
    "    'в': 'б',\n",
    "    # Шаг 11\n",
    "    'б': 'з',\n",
    "    'к': 'д',\n",
    "    # Шаг 12\n",
    "    'е': 'ж'\n",
    "}\n",
    "\n",
    "new_str = ''.join([replacement_dict[c] if c in replacement_dict else c for c in input_str])\n",
    "\n",
    "#print(new_str)"
   ]
  },
  {
   "cell_type": "markdown",
   "metadata": {},
   "source": [
    "## Итоговый текст"
   ]
  },
  {
   "cell_type": "code",
   "execution_count": 191,
   "metadata": {},
   "outputs": [
    {
     "name": "stdout",
     "output_type": "stream",
     "text": [
      "обеспокоенная алиция позвонила мне домой к телефону никто не подходил\n",
      "но это еще ни о чем не говорило я могла куда угодно выйти а\n",
      "домработницы не было дома поэтому алиция позвонила еще раз поздно\n",
      "вечером и узнала от домработницы что меня нет домработница не видела\n",
      "меня с воскресенья в моей комнате нормальный беспорядок на следующий\n",
      "день уже не на шутку обеспокоенная алиция с утра висела на телефоне\n",
      "меня нигде не было домой на ночь я не возвращалась никто ничего не\n",
      "знал обо мне расспросы алиции очень встревожили аниту с которой я\n",
      "договорилась встретиться во вторник но не пришла и не подавала никаких\n",
      "вестей а ведь анита переводила мою книжку в чем я была заинтересована\n",
      "куда больше ее весь вечер она была вынуждена переводить одна злилась\n",
      "названивала мне а меня все не было и не было все это заставило алицию\n",
      "задуматься подумав она вечером в четверг после работы пришла ко мне\n",
      "домой поговорив с домработницей она осмотрела квартиру проверила\n",
      "наличие моих вещей прочла вопреки своим принципам заправленное в\n",
      "пишущую машинку мое письмо к михалу хотя это ей ничего не дало ибо\n",
      "письмо состояло в основном из рассуждений на тему каковы шансы флоренс\n",
      "на победу в очередных скачках потом напилась кофе посидела за столом и\n",
      "ничего не решила какоенибудь любовное приключение не похоже на меня уж\n",
      "скорее можно предположить что мне очередной раз чтото втемяшилось в\n",
      "голову и я решила немедленно ехать в польшу причем ехать в чем была\n",
      "баз вещей без денег без документов которые лежали в столе и среди\n",
      "которых не хватало только паспорта алиция обзвонила все больницы\n",
      "звонила в полицию и пожарную команду никто обо мне ничего не знал я\n",
      "как сквозь землю провалилась\n"
     ]
    }
   ],
   "source": [
    "import textwrap\n",
    "print(textwrap.fill(new_str))"
   ]
  }
 ],
 "metadata": {
  "kernelspec": {
   "display_name": ".venv",
   "language": "python",
   "name": "python3"
  },
  "language_info": {
   "codemirror_mode": {
    "name": "ipython",
    "version": 3
   },
   "file_extension": ".py",
   "mimetype": "text/x-python",
   "name": "python",
   "nbconvert_exporter": "python",
   "pygments_lexer": "ipython3",
   "version": "3.12.0"
  }
 },
 "nbformat": 4,
 "nbformat_minor": 2
}
