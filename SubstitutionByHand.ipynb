{
 "cells": [
  {
   "cell_type": "markdown",
   "metadata": {},
   "source": [
    "# Задание 28. Криптоанализ шифра простой замены."
   ]
  },
  {
   "cell_type": "markdown",
   "metadata": {},
   "source": [
    "## ФАЙЛЫ, НЕОБХОДИМЫЕ ДЛЯ РАБОТЫ БЛОКНОТА"
   ]
  },
  {
   "cell_type": "markdown",
   "metadata": {},
   "source": [
    "Для корректной работы всего алгоритма необходимо скачать архив с двумя файлами и распаковать в корень проекта. Файлы в проекте:\n",
    "- `snail_on_the_hill.txt`: текст повести братьев Стругацких \"Улитка на склоне\", нужен для подсчёта матрицы биграмм открытого текста\n",
    "- `practice.txt`: текстовый файл со всеми вариантами практики\n",
    "\n",
    "[Ссылка на архив](https://drive.google.com/file/d/1M-zpeztl2FgXud15oJG9CIBsX9Qxb7fF/view?usp=sharing)\n",
    "\n",
    "`SHA-1` хэш-сумма архива (ну мало ли, мы же всё-таки криптографией занимаемся): `1420bb1e8ac16335a21332dfc88fefb4d907cc21`"
   ]
  },
  {
   "cell_type": "markdown",
   "metadata": {},
   "source": [
    "## Подгрузка модулей"
   ]
  },
  {
   "cell_type": "code",
   "execution_count": 1,
   "metadata": {},
   "outputs": [
    {
     "name": "stdout",
     "output_type": "stream",
     "text": [
      "Requirement already satisfied: beautifulsoup4 in d:\\мехмат\\осенний семестр 2024\\теоркод\\криптоанализ\\.venv\\lib\\site-packages (4.12.3)\n",
      "Requirement already satisfied: requests in d:\\мехмат\\осенний семестр 2024\\теоркод\\криптоанализ\\.venv\\lib\\site-packages (2.32.3)\n",
      "Requirement already satisfied: pandas in d:\\мехмат\\осенний семестр 2024\\теоркод\\криптоанализ\\.venv\\lib\\site-packages (2.2.3)\n",
      "Requirement already satisfied: soupsieve>1.2 in d:\\мехмат\\осенний семестр 2024\\теоркод\\криптоанализ\\.venv\\lib\\site-packages (from beautifulsoup4) (2.6)\n",
      "Requirement already satisfied: charset-normalizer<4,>=2 in d:\\мехмат\\осенний семестр 2024\\теоркод\\криптоанализ\\.venv\\lib\\site-packages (from requests) (3.4.1)\n",
      "Requirement already satisfied: idna<4,>=2.5 in d:\\мехмат\\осенний семестр 2024\\теоркод\\криптоанализ\\.venv\\lib\\site-packages (from requests) (3.10)\n",
      "Requirement already satisfied: urllib3<3,>=1.21.1 in d:\\мехмат\\осенний семестр 2024\\теоркод\\криптоанализ\\.venv\\lib\\site-packages (from requests) (2.3.0)\n",
      "Requirement already satisfied: certifi>=2017.4.17 in d:\\мехмат\\осенний семестр 2024\\теоркод\\криптоанализ\\.venv\\lib\\site-packages (from requests) (2024.12.14)\n",
      "Requirement already satisfied: numpy>=1.26.0 in d:\\мехмат\\осенний семестр 2024\\теоркод\\криптоанализ\\.venv\\lib\\site-packages (from pandas) (2.2.1)\n",
      "Requirement already satisfied: python-dateutil>=2.8.2 in d:\\мехмат\\осенний семестр 2024\\теоркод\\криптоанализ\\.venv\\lib\\site-packages (from pandas) (2.9.0.post0)\n",
      "Requirement already satisfied: pytz>=2020.1 in d:\\мехмат\\осенний семестр 2024\\теоркод\\криптоанализ\\.venv\\lib\\site-packages (from pandas) (2024.2)\n",
      "Requirement already satisfied: tzdata>=2022.7 in d:\\мехмат\\осенний семестр 2024\\теоркод\\криптоанализ\\.venv\\lib\\site-packages (from pandas) (2024.2)\n",
      "Requirement already satisfied: six>=1.5 in d:\\мехмат\\осенний семестр 2024\\теоркод\\криптоанализ\\.venv\\lib\\site-packages (from python-dateutil>=2.8.2->pandas) (1.17.0)\n"
     ]
    }
   ],
   "source": [
    "! pip install beautifulsoup4 requests pandas"
   ]
  },
  {
   "cell_type": "markdown",
   "metadata": {},
   "source": [
    "## Идея алгоритма"
   ]
  },
  {
   "cell_type": "markdown",
   "metadata": {},
   "source": [
    "В данном алгоритме используются матрицы биграмм. Возьмём матрицу биграмм исходного текста $B = (b_{ij})_{n \\times n}$ и матрицу биграмм получаемого в процессе дешифрования текста $\\Delta(t)=(\\Delta_{ij}(t))_{n\\times n}$. Зададим некоторую функцию – характеристику дешифрованного текста на основе этих матриц: $$f(D_k(y)) = \\sum_{ij} |\\Delta_{ij}(D_k(y))-b_{ij}|$$\n",
    "\n",
    "Ясно, что если текст расшифрован верно, $f(D_k(y)) = 0$\n",
    "\n",
    "Матрицу биграмм $B$ в данном случае построить невозможно (неизвестен исходный текст), но ясно, что матрица биграмм будет примерно соответствовать матрице биграмм для русского языка (или, как минимум, достаточно крупного текста на русском языке, что и используется ниже). Тогда функцию $f$ можно использовать для оценки \"близости\" шифротекста к русскому языку. Задача сводится к нахождению такого ключа $k$, что $f(D_k(y))$ минимально.\n",
    "\n",
    "Ниже приведено решение данной задачи алгоритмом локального поиска. Для начала будет находится некоторый ключ, а затем выбираться по два символа в попытке \"улучшить\" значение функции $f$."
   ]
  },
  {
   "cell_type": "markdown",
   "metadata": {},
   "source": [
    "## Реализация"
   ]
  },
  {
   "cell_type": "markdown",
   "metadata": {},
   "source": [
    "### Вспомогательные функции"
   ]
  },
  {
   "cell_type": "markdown",
   "metadata": {},
   "source": [
    "Зададим алфавит – буквы от \"а\" до \"я\" (все 33 буквы):"
   ]
  },
  {
   "cell_type": "code",
   "execution_count": 2,
   "metadata": {},
   "outputs": [],
   "source": [
    "ALPHABET = \"абвгдеёжзийклмнопрстуфхцчшщъыьэюя\""
   ]
  },
  {
   "cell_type": "markdown",
   "metadata": {},
   "source": [
    "Функции обработки текста и дешифрования обработанного текста ключом:"
   ]
  },
  {
   "cell_type": "code",
   "execution_count": 3,
   "metadata": {},
   "outputs": [],
   "source": [
    "# Оставляет в тексте только символы из алфавита\n",
    "def process_text(text, alphabet):\n",
    "    return ''.join([c for c in text.lower() if c in alphabet])\n",
    "\n",
    "# Дешифрует (очищенный) текст ключом\n",
    "def decrypt(ciphertext, alphabet, key):\n",
    "    return ''.join([alphabet[key.index(c)] if c in alphabet else c for c in ciphertext])"
   ]
  },
  {
   "cell_type": "markdown",
   "metadata": {},
   "source": [
    "Ниже приведены функции создания матриц биграмм для некоторых текстов (как в виде строки, так и по пути к файлу), а также функция перевода абсолютной частоты в относительную:"
   ]
  },
  {
   "cell_type": "code",
   "execution_count": 4,
   "metadata": {},
   "outputs": [],
   "source": [
    "import numpy as np\n",
    "\n",
    "# Создаёт матрицу биграмм по (очищенному) открытому тексту в виде строки\n",
    "def create_bigram_matrix(text: str, alphabet: str) -> np.ndarray:\n",
    "    bigram_matrix = np.zeros((len(alphabet), len(alphabet)))\n",
    "    for i in range(len(text) - 1):\n",
    "        row = alphabet.index(text[i])\n",
    "        col = alphabet.index(text[i + 1])\n",
    "        bigram_matrix[row][col] += 1\n",
    "    return bigram_matrix\n",
    "\n",
    "# Создаёт матрицу биграмм по (очищенному) открытому тексту из текстового файла\n",
    "def create_bigram_matrix_from_file(path: str, alphabet: str) -> np.ndarray:\n",
    "    text = process_text(open(path, 'r').read(), alphabet)\n",
    "    return create_bigram_matrix(text, alphabet)\n",
    "\n",
    "# Преобразует значения матрицы от абсолютной частоты к относительную\n",
    "def normalize(matrix: np.ndarray) -> np.ndarray:\n",
    "    return np.divide(matrix, matrix.sum())"
   ]
  },
  {
   "cell_type": "markdown",
   "metadata": {},
   "source": [
    "Непосредственно функция $f$, значение которой нужно будет минимизировать"
   ]
  },
  {
   "cell_type": "code",
   "execution_count": 5,
   "metadata": {},
   "outputs": [],
   "source": [
    "def f(current_matrix: np.ndarray, target_matrix: np.ndarray) -> float:\n",
    "    return np.sum(np.abs(current_matrix - target_matrix))"
   ]
  },
  {
   "cell_type": "markdown",
   "metadata": {},
   "source": [
    "В основном алгоритме должен быть задан какой-то начальный ключ. В данном случае выбран следующий: буква заменяется в соответствии с частотой шифротекста и открытого текста (русского языка). Самые частые буквы в русском языке заменяются самыми частыми буквами шифротекста, и наоборот:"
   ]
  },
  {
   "cell_type": "code",
   "execution_count": 6,
   "metadata": {},
   "outputs": [],
   "source": [
    "from bs4 import BeautifulSoup\n",
    "import requests\n",
    "import pandas as pd\n",
    "\n",
    "# Здесь точно так же загружается частотный словарь русского языка, как и в индиве\n",
    "# Но есть некоторые дополнения\n",
    "def get_base_key(ciphertext: str, alphabet: str) -> list:\n",
    "    # Прочитать GET-запросом и вытянуть табличку\n",
    "    response = requests.get(\"http://dict.ruslang.ru/freq.php?act=show&dic=freq_letters&title=%D7%E0%F1%F2%EE%F2%ED%EE%F1%F2%FC%20%E1%F3%EA%E2%20%F0%F3%F1%F1%EA%EE%E3%EE%20%E0%EB%F4%E0%E2%E8%F2%E0\")\n",
    "    soup = BeautifulSoup(response.text, \"html.parser\").find_all(\"table\")[1]\n",
    "    rows = soup.find_all('tr')\n",
    "    list_rows = []\n",
    "\n",
    "    # Пробег по табличке и преобразование каждой строки в список\n",
    "    for row in rows:\n",
    "        row_td = row.find_all('td')[1:]\n",
    "        str_cells = list(map(str, row_td))\n",
    "        clean_text = list(map(lambda x: BeautifulSoup(x,\"html.parser\").get_text().strip(), str_cells))\n",
    "        list_rows.append(clean_text)\n",
    "\n",
    "    # Фронтендер сайтя НКРЯ сделал между заголовком и текстом пустую строку >:(\n",
    "    # Вырезаем её\n",
    "    list_rows = list_rows[0:1] + list_rows[2:]\n",
    "\n",
    "    # Перегонка в пандас датафрейм (можно было обойтись без этого, но вытянуть столбец из датафрейма проще)\n",
    "    df = pd.DataFrame(list_rows)\n",
    "    headers = df.iloc[0]\n",
    "    new_df  = pd.DataFrame(df.values[1:], columns=headers).drop(columns=[None, 'Ранг'])\n",
    "    new_df = new_df.astype({'Абс. частота': 'int32'}, copy=False)\n",
    "\n",
    "    # Сортировка по убыванию частоты\n",
    "    new_df.sort_values(by='Абс. частота', ascending=False, inplace=True)\n",
    "    # Получается строчка символов в порядке убывания частоты для открытого текста\n",
    "    target_freq_str = ''.join(list(new_df['Буква']))\n",
    "\n",
    "    # Подсчёт частоты символов в шифротексте (точно так же, как в индиве)\n",
    "    freq = [0] * len(alphabet)\n",
    "    for j in ciphertext:\n",
    "        freq[alphabet.find(j)] += 1\n",
    "    # Строчка символов в порядке убывания частоты для шифротекста\n",
    "    freq = ''.join([x for _, x in sorted(zip(freq, alphabet), reverse=True)])\n",
    "\n",
    "    # Сборка из трёх строк одного ключа (символ из алфавита -> его позиция в частоте открытого текста ->\n",
    "    # -> символ на этой позиции в частоте шифротекста)\n",
    "    base_key = [freq[target_freq_str.index(x)] for x in alphabet]\n",
    "    return base_key\n"
   ]
  },
  {
   "cell_type": "markdown",
   "metadata": {},
   "source": [
    "### Основная часть алгоритма"
   ]
  },
  {
   "cell_type": "markdown",
   "metadata": {},
   "source": [
    "Тело алгоритма - функция `analyze`. Шаги алгоритма:\n",
    "1. Создать базовый ключ на основе частот\n",
    "2. Поменять некоторые два символа в ключе местами\n",
    "3. Проверить, \"улучшилось\" ли значение функции $f$\n",
    "4. Если улучшилось, заменить ключ новым, перейти на шаг два\n",
    "5. Иначе перейти на шаг 2.\n",
    "\n",
    "Алгоритм повторяется, пока появляются \"улучшения\" значения $f$. Если улучшений не наблюдалось уже `when_return` раз, считается, что ключ найден, алгоритм завершает работу.\n",
    "\n",
    "Для вычисления матрицы биграмм открытого текста используется текст повести братьев Стругацких \"Улитка на склоне\".\n",
    "\n",
    "Выбор символов для перемены местами – зацикленный перебор всех $C_n^2$ пар."
   ]
  },
  {
   "cell_type": "code",
   "execution_count": 7,
   "metadata": {},
   "outputs": [],
   "source": [
    "# Получает следующую из C_n^2 пару индексов для перестановки\n",
    "def get_next_combo(i, j, n):\n",
    "    j += 1\n",
    "    if j == n:\n",
    "        i += 1\n",
    "        j = i + 1\n",
    "    if i == n - 1:\n",
    "        i, j = 0, 1\n",
    "    return i, j\n",
    "\n",
    "# \"Сердце\" алгоритма, принимает шифротекст, возвращает ключ\n",
    "def analyze(ciphertext: str, alphabet: str, when_return: int=1200) -> list:\n",
    "    # Загрузка матрицы открытого текста (по файлу с текстом \"Улитки на склоне\")\n",
    "    target_matrix = normalize(create_bigram_matrix_from_file(\"snail_on_the_hill.txt\", ALPHABET))\n",
    "    # Изначально лучший ключ задаётся на основе частот\n",
    "    best_key = get_base_key(ciphertext, alphabet)\n",
    "    # Подсчёт оценки f для ключа\n",
    "    best_score = f(normalize(create_bigram_matrix(ciphertext, alphabet)), target_matrix)\n",
    "    # Счётчик для выхода\n",
    "    return_counter = 0\n",
    "    # Изначальная пара i, j\n",
    "    i, j = 0, 0\n",
    "    while return_counter < when_return:\n",
    "        # Выбор пары букв в ключе, перемена их местами\n",
    "        key = best_key.copy()\n",
    "        i, j = get_next_combo(i, j, len(key))\n",
    "        key[i], key[j] = key[j], key[i]\n",
    "        # Пересчёт оценки для нового ключа\n",
    "        score = f(normalize(create_bigram_matrix(decrypt(ciphertext, alphabet, key), alphabet)), target_matrix)\n",
    "        # Стало лучше => надо изменить ключ\n",
    "        if score < best_score:\n",
    "            return_counter = 0\n",
    "            best_key = key\n",
    "            best_score = score\n",
    "        return_counter += 1\n",
    "    return best_key"
   ]
  },
  {
   "cell_type": "markdown",
   "metadata": {},
   "source": [
    "## Демонстрация"
   ]
  },
  {
   "cell_type": "markdown",
   "metadata": {},
   "source": [
    "Для демонстрации в случае какого-то одного текста я использовал свой вариант из индива:"
   ]
  },
  {
   "cell_type": "code",
   "execution_count": 8,
   "metadata": {},
   "outputs": [
    {
     "name": "stdout",
     "output_type": "stream",
     "text": [
      "Ключ: свинкапебртгдёжзйлмоуфхцчшщъыьэюя\n",
      "обеспокоенная алиция позвонила мне домой к телефону никто не подходил но это еще\n",
      "ни о чем не говорило я могла куда угодно выйти а домработницы не было дома\n",
      "поэтому алиция позвонила еще раз поздно вечером и узнала от домработницы что\n",
      "меня нет домработница не видела меня с воскресенья в моей комнате нормальный\n",
      "беспорядок на следующий день уже не на шутку обеспокоенная алиция с утра висела\n",
      "на телефоне меня нигде не было домой на ночь я не возвращалась никто ничего не\n",
      "знал обо мне расспросы алиции очень встревожили аниту с которой я договорилась\n",
      "встретиться во вторник но не пришла и не подавала никаких вестей а ведь анита\n",
      "переводила мою книжку в чем я была заинтересована куда больше ее весь вечер она\n",
      "была вынуждена переводить одна злилась названивала мне а меня все не было и не\n",
      "было все это заставило алицию задуматься подумав она вечером в четверг после\n",
      "работы пришла ко мне домой поговорив с домработницей она осмотрела квартиру\n",
      "проверила наличие моих вещей прочла вопреки своим принципам заправленное в\n",
      "пишущую машинку мое письмо к михалу хотя это ей ничего не дало ибо письмо\n",
      "состояло в основном из рассуждений на тему каковы шансы флоренс на победу в\n",
      "очередных скачках потом напилась кофе посидела за столом и ничего не решила\n",
      "какоенибудь любовное приключение не похоже на меня уж скорее можно предположить\n",
      "что мне очередной раз чтото втемяшилось в голову и я решила немедленно ехать в\n",
      "польшу причем ехать в чем была  баз вещей без денег без документов которые\n",
      "лежали в столе и среди которых не хватало только паспорта алиция обзвонила все\n",
      "больницы звонила в полицию и пожарную команду никто обо мне ничего не знал я как\n",
      "сквозь землю провалилась\n"
     ]
    }
   ],
   "source": [
    "import textwrap\n",
    "\n",
    "input_str = '''звамйзгзажжся сдрцря йзбизжрдс ёжа кзёзт г оадафзжу жргоз жа йзкхзкрд жз эоз аща жр з чаё жа нзизлрдз я ёзндс гукс унзкжз иытор с кзёлсвзожрцы жа выдз кзёс йзэозёу сдрцря йзбизжрдс аща лсб йзбкжз иачалзё р убжсдс зо кзёлсвзожрцы чоз ёажя жао кзёлсвзожрцс жа иркадс ёажя м измгламажья и ёзат гзёжсоа жзлёсдьжыт вамйзлякзг\n",
    "жс мдакующрт кажь уеа жа жс шуогу звамйзгзажжся сдрцря м уолс ирмадс жс оадафзжа ёажя жрнка жа выдз кзёзт жс жзчь я жа избилсщсдсмь жргоз жрчанз жа бжсд звз ёжа лсммйлзмы сдрцрр зчажь имолаизердр сжроу м гзозлзт я кзнзизлрдсмь имолаороьмя из иозлжрг жз жа йлршдс р жа йзксисдс жргсгрх иамоат с иакь сжрос йалаизкрдс ёзю гжрегу и чаё я выдс бсржоаламзисжс гукс вздьша аа иамь иачал зжс выдс иыжуекажс йалаизкроь зкжс бдрдсмь жсбисжрисдс ёжа с ёажя има жа выдз р жа выдз\n",
    "има эоз бсмосирдз сдрцрю бскуёсоьмя йзкуёси зжс иачалзё и чаоиалн йзмда лсвзоы йлршдс гз ёжа кзёзт йзнзизлри м кзёлсвзожрцат зжс змёзоладс гислорлу йлзиалрдс жсдрчра ёзрх иащат йлзчдс изйлагр мизрё йлржцрйсё бсйлсидажжза и йршущую ёсшржгу ёза йрмьёз г ёрхсду хзоя эоз ат жрчанз жа ксдз рвз йрмьёз мзмозядз и змжзижзё рб лсммуекажрт жс оаёу гсгзиы шсжмы фдзлажм жс йзваку и зчалакжых мгсчгсх йзозё жсйрдсмь гзфа йзмркадс бс моздзё р жрчанз жа лашрдс гсгзажрвукь дювзижза йлргдючажра жа йзхзеа жс ёажя уе мгзлаа ёзежз йлакйздзероь чоз ёжа зчалакжзт лсб чозоз иоаёяшрдзмь и нздзиу р я лашрдс жаёакдажжз ахсоь и йздьшу йлрчаё ахсоь и чаё выдс  всб иащат ваб кажан ваб кзгуёажози гзозлыа даесдр и мозда р млакр гзозлых жа хисосдз оздьгз йсмйзлос сдрцря звбизжрдс има вздьжрцы бизжрдс и йздрцрю р йзеслжую гзёсжку жргоз звз ёжа жрчанз жа бжсд я гсг мгизбь баёдю йлзисдрдсмь\n",
    "'''\n",
    "\n",
    "# Обработка строчки, удаление всего, что не в алфавите\n",
    "input_str_processed = process_text(input_str, ALPHABET)\n",
    "\n",
    "# Вычисление ключа с помощью алгоритма, применение его\n",
    "key = analyze(input_str_processed, ALPHABET)\n",
    "new_str = decrypt(input_str, ALPHABET, key)\n",
    "print(f\"Ключ: {''.join(key)}\")\n",
    "print(textwrap.fill(new_str, 80))"
   ]
  },
  {
   "cell_type": "markdown",
   "metadata": {},
   "source": [
    "А теперь можно и повеселиться: давайте сделаем за всех индив и посчитаем все варианты в автоматизированном виде :)"
   ]
  },
  {
   "cell_type": "code",
   "execution_count": 9,
   "metadata": {},
   "outputs": [],
   "source": [
    "import re\n",
    "import textwrap\n",
    "\n",
    "with open('output.txt', 'w') as out:\n",
    "    # Этими двумя строчками парсится текстовый файл с вариантами\n",
    "    # Используется как обработанный (очищенный) вариант текста, так и \"сырой\",\n",
    "    # с пробелами и переносами (для вывода в файл)\n",
    "    raw_ciphertexts = re.split(r\"(\\d+)\", open('practice.txt', 'r').read())\n",
    "    ciphertexts = filter(lambda t: len(t[0]) > 0, zip(map(lambda t: process_text(t, ALPHABET), raw_ciphertexts), raw_ciphertexts))\n",
    "    for i, (ciphertext, raw_ciphertext) in enumerate(ciphertexts):\n",
    "        # Расшифровка текста\n",
    "        key = analyze(ciphertext, ALPHABET)\n",
    "        decrypted = decrypt(raw_ciphertext.strip(), ALPHABET, key)\n",
    "        # Запись того, что получилось, в файл\n",
    "        out.write(str(i + 1) + '\\n')\n",
    "        out.write(ALPHABET + '\\n')\n",
    "        out.write(''.join(key) + '\\n')\n",
    "        out.write(textwrap.fill(decrypted, 80) + '\\n')"
   ]
  },
  {
   "cell_type": "markdown",
   "metadata": {},
   "source": [
    "## Выводы"
   ]
  },
  {
   "cell_type": "markdown",
   "metadata": {},
   "source": [
    "Реализация алгоритма довольно простая. Написать данный алгоритм и запустить – куда быстрее, чем подбирать вручную. Особенно это актуально для крупных текстов.\n",
    "\n",
    "Есть, правда, и проблемы. Вот некоторые из них:\n",
    "- Алгоритм не всегда работает правильно. Возможно, он застряёт в локальном минимуме функции оценки $f$. А может, это проблема того, что частота биграмм в шифротексте - не самый точный способ оценки верности ключа. Что-то получается верно, но не всё, дальше придётся восстанавливать руками по контексту.\n",
    "- Алгоритм работает **медленно**. Все 49 вариантов индива программа выполняет за 3-4 минуты – почти оскорбительно долго для такого простого шифра.\n",
    "- Выбор текста для составления матрицы биграмм, кажется, влияет. Вообще, изначально я пытался использовать ту матрицу, что приводилась в примерах криптоанализа простой замены (нашёл её в электронном виде). Но там **не было буквы \"ё\"**!!! И всё сломалось! Пришлось брать длинный текст. Но есть подозрение, что при использовании разных текстов как открытых результат будет немного разный. \n",
    "\n",
    "Возможные варианты улучшения - не просто перебирать пары, а использовать более интересные алгоритмы локального поиска - имитация отжига, генетический алгоритм. Не уверен, что это имеет смысл, но звучит интересно. Это может помочь избавится от локального минимума. Также, можно попробовать использовать *триграммы* вместо *биграмм*, наверняка это \"улучшит\" алгоритм."
   ]
  }
 ],
 "metadata": {
  "kernelspec": {
   "display_name": ".venv",
   "language": "python",
   "name": "python3"
  },
  "language_info": {
   "codemirror_mode": {
    "name": "ipython",
    "version": 3
   },
   "file_extension": ".py",
   "mimetype": "text/x-python",
   "name": "python",
   "nbconvert_exporter": "python",
   "pygments_lexer": "ipython3",
   "version": "3.12.0"
  }
 },
 "nbformat": 4,
 "nbformat_minor": 2
}
